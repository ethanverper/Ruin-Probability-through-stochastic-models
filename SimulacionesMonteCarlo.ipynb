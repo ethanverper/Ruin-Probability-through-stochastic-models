{
  "nbformat": 4,
  "nbformat_minor": 0,
  "metadata": {
    "colab": {
      "name": "SimulacionesMonteCarlo.ipynb",
      "provenance": [],
      "collapsed_sections": [
        "P1YX5klPstwz",
        "gWewM-JUPTdN",
        "To77dWDuPyMe",
        "cqG4GC5sP8zq",
        "ST47dp4cQkdm",
        "r3wnzQ0P0h4J",
        "hIbRq3MtRDCh",
        "W0gbBrEK1hik",
        "kjiI9oQw_Uwt",
        "JI7mDZIP_gP8",
        "u20l-7XA_osc"
      ]
    },
    "kernelspec": {
      "display_name": "Python 3",
      "name": "python3"
    },
    "language_info": {
      "name": "python"
    }
  },
  "cells": [
    {
      "cell_type": "markdown",
      "metadata": {
        "id": "V49BRYIbs0l-"
      },
      "source": [
        "# Simulaciones con el método de Monte Carlo Frecuentista y de variación mínima.\n",
        "\n",
        "* Salette Guadalupe Noemi Villalobos - *A01246619*\n",
        "* Samuel Méndez Villegas - *A01652277*\n",
        "* Ethan Enrique Verduzco Pérez - *A01066955*\n",
        "* Jesús Alejandro Marroquín Escobedo - *A00827670*\n",
        "* Brenda Guadalupe Martínez Orta - *A01570565*\n"
      ]
    },
    {
      "cell_type": "markdown",
      "metadata": {
        "id": "P1YX5klPstwz"
      },
      "source": [
        "## Librerías a utilizar"
      ]
    },
    {
      "cell_type": "code",
      "metadata": {
        "id": "84ZV4k6Pd-9K"
      },
      "source": [
        "## Librerías a utilizar\n",
        "import pandas as pd\n",
        "import numpy as np\n",
        "import matplotlib.pyplot as plt\n",
        "import statistics \n",
        "import math"
      ],
      "execution_count": null,
      "outputs": []
    },
    {
      "cell_type": "markdown",
      "metadata": {
        "id": "gWewM-JUPTdN"
      },
      "source": [
        "## Lectura de la base de datos"
      ]
    },
    {
      "cell_type": "code",
      "metadata": {
        "colab": {
          "base_uri": "https://localhost:8080/"
        },
        "id": "TAf7LygEnTsW",
        "outputId": "4c2d6224-d5d1-4a2b-8302-a22174705744"
      },
      "source": [
        "from google.colab import drive\n",
        "drive.mount('/content/drive')"
      ],
      "execution_count": null,
      "outputs": [
        {
          "output_type": "stream",
          "name": "stdout",
          "text": [
            "Drive already mounted at /content/drive; to attempt to forcibly remount, call drive.mount(\"/content/drive\", force_remount=True).\n"
          ]
        }
      ]
    },
    {
      "cell_type": "code",
      "metadata": {
        "id": "TOW0fP__PSrn",
        "colab": {
          "base_uri": "https://localhost:8080/"
        },
        "outputId": "de29cd7a-e455-4a48-e6b7-fd9709dc7c6b"
      },
      "source": [
        "df = pd.read_csv('/content/drive/Shareddrives/Optimización Estocástica/Datos_aseguradoraOrdenados.csv',encoding= 'latin-1')\n",
        "df"
      ],
      "execution_count": null,
      "outputs": [
        {
          "output_type": "execute_result",
          "data": {
            "text/html": [
              "<div>\n",
              "<style scoped>\n",
              "    .dataframe tbody tr th:only-of-type {\n",
              "        vertical-align: middle;\n",
              "    }\n",
              "\n",
              "    .dataframe tbody tr th {\n",
              "        vertical-align: top;\n",
              "    }\n",
              "\n",
              "    .dataframe thead th {\n",
              "        text-align: right;\n",
              "    }\n",
              "</style>\n",
              "<table border=\"1\" class=\"dataframe\">\n",
              "  <thead>\n",
              "    <tr style=\"text-align: right;\">\n",
              "      <th></th>\n",
              "      <th>Fecha del Siniestro</th>\n",
              "      <th>Tipo de auto</th>\n",
              "      <th>Modelo</th>\n",
              "      <th>Monto del siniestro</th>\n",
              "      <th>Aplica cobertura</th>\n",
              "      <th>Deducible</th>\n",
              "      <th>Reclamo de Cobertura</th>\n",
              "      <th>Pérdida total</th>\n",
              "    </tr>\n",
              "  </thead>\n",
              "  <tbody>\n",
              "    <tr>\n",
              "      <th>0</th>\n",
              "      <td>01/01/20</td>\n",
              "      <td>Camioneta</td>\n",
              "      <td>2018</td>\n",
              "      <td>93750</td>\n",
              "      <td>Si</td>\n",
              "      <td>7500.0</td>\n",
              "      <td>No</td>\n",
              "      <td>No</td>\n",
              "    </tr>\n",
              "    <tr>\n",
              "      <th>1</th>\n",
              "      <td>01/01/20</td>\n",
              "      <td>Austero</td>\n",
              "      <td>2016</td>\n",
              "      <td>2580</td>\n",
              "      <td>Si</td>\n",
              "      <td>1000.0</td>\n",
              "      <td>No</td>\n",
              "      <td>No</td>\n",
              "    </tr>\n",
              "    <tr>\n",
              "      <th>2</th>\n",
              "      <td>01/01/20</td>\n",
              "      <td>Subcompacto</td>\n",
              "      <td>2017</td>\n",
              "      <td>18040</td>\n",
              "      <td>Si</td>\n",
              "      <td>2600.0</td>\n",
              "      <td>No</td>\n",
              "      <td>No</td>\n",
              "    </tr>\n",
              "    <tr>\n",
              "      <th>3</th>\n",
              "      <td>01/01/20</td>\n",
              "      <td>Subcompacto</td>\n",
              "      <td>2017</td>\n",
              "      <td>18760</td>\n",
              "      <td>Si</td>\n",
              "      <td>2000.0</td>\n",
              "      <td>No</td>\n",
              "      <td>No</td>\n",
              "    </tr>\n",
              "    <tr>\n",
              "      <th>4</th>\n",
              "      <td>01/01/20</td>\n",
              "      <td>Austero</td>\n",
              "      <td>2017</td>\n",
              "      <td>2640</td>\n",
              "      <td>Si</td>\n",
              "      <td>1600.0</td>\n",
              "      <td>No</td>\n",
              "      <td>No</td>\n",
              "    </tr>\n",
              "    <tr>\n",
              "      <th>...</th>\n",
              "      <td>...</td>\n",
              "      <td>...</td>\n",
              "      <td>...</td>\n",
              "      <td>...</td>\n",
              "      <td>...</td>\n",
              "      <td>...</td>\n",
              "      <td>...</td>\n",
              "      <td>...</td>\n",
              "    </tr>\n",
              "    <tr>\n",
              "      <th>27116</th>\n",
              "      <td>30/12/20</td>\n",
              "      <td>Camioneta</td>\n",
              "      <td>2017</td>\n",
              "      <td>50380</td>\n",
              "      <td>Si</td>\n",
              "      <td>8800.0</td>\n",
              "      <td>No</td>\n",
              "      <td>No</td>\n",
              "    </tr>\n",
              "    <tr>\n",
              "      <th>27117</th>\n",
              "      <td>30/12/20</td>\n",
              "      <td>Austero</td>\n",
              "      <td>2016</td>\n",
              "      <td>5170</td>\n",
              "      <td>Si</td>\n",
              "      <td>1400.0</td>\n",
              "      <td>No</td>\n",
              "      <td>No</td>\n",
              "    </tr>\n",
              "    <tr>\n",
              "      <th>27118</th>\n",
              "      <td>30/12/20</td>\n",
              "      <td>Subcompacto</td>\n",
              "      <td>2017</td>\n",
              "      <td>14640</td>\n",
              "      <td>Si</td>\n",
              "      <td>2600.0</td>\n",
              "      <td>No</td>\n",
              "      <td>No</td>\n",
              "    </tr>\n",
              "    <tr>\n",
              "      <th>27119</th>\n",
              "      <td>30/12/20</td>\n",
              "      <td>Austero</td>\n",
              "      <td>2018</td>\n",
              "      <td>2980</td>\n",
              "      <td>Si</td>\n",
              "      <td>1000.0</td>\n",
              "      <td>No</td>\n",
              "      <td>No</td>\n",
              "    </tr>\n",
              "    <tr>\n",
              "      <th>27120</th>\n",
              "      <td>30/12/20</td>\n",
              "      <td>compacto</td>\n",
              "      <td>2018</td>\n",
              "      <td>21580</td>\n",
              "      <td>Si</td>\n",
              "      <td>3500.0</td>\n",
              "      <td>No</td>\n",
              "      <td>No</td>\n",
              "    </tr>\n",
              "  </tbody>\n",
              "</table>\n",
              "<p>27121 rows × 8 columns</p>\n",
              "</div>"
            ],
            "text/plain": [
              "      Fecha del Siniestro Tipo de auto  ...  Reclamo de Cobertura  Pérdida total\n",
              "0                01/01/20    Camioneta  ...                    No             No\n",
              "1                01/01/20      Austero  ...                    No             No\n",
              "2                01/01/20  Subcompacto  ...                    No             No\n",
              "3                01/01/20  Subcompacto  ...                    No             No\n",
              "4                01/01/20      Austero  ...                    No             No\n",
              "...                   ...          ...  ...                   ...            ...\n",
              "27116            30/12/20    Camioneta  ...                    No             No\n",
              "27117            30/12/20      Austero  ...                    No             No\n",
              "27118            30/12/20  Subcompacto  ...                    No             No\n",
              "27119            30/12/20      Austero  ...                    No             No\n",
              "27120            30/12/20     compacto  ...                    No             No\n",
              "\n",
              "[27121 rows x 8 columns]"
            ]
          },
          "metadata": {},
          "execution_count": 182
        }
      ]
    },
    {
      "cell_type": "markdown",
      "metadata": {
        "id": "To77dWDuPyMe"
      },
      "source": [
        "## Información de las variables"
      ]
    },
    {
      "cell_type": "code",
      "metadata": {
        "id": "QtwwyaRRPQNA",
        "colab": {
          "base_uri": "https://localhost:8080/"
        },
        "outputId": "7afc475d-66d1-4d1f-bc45-e336aecf9d6b"
      },
      "source": [
        "## Descripción General de los datos\n",
        "df.info()"
      ],
      "execution_count": null,
      "outputs": [
        {
          "output_type": "stream",
          "name": "stdout",
          "text": [
            "<class 'pandas.core.frame.DataFrame'>\n",
            "RangeIndex: 27121 entries, 0 to 27120\n",
            "Data columns (total 8 columns):\n",
            " #   Column                Non-Null Count  Dtype  \n",
            "---  ------                --------------  -----  \n",
            " 0   Fecha del Siniestro   27121 non-null  object \n",
            " 1   Tipo de auto          27098 non-null  object \n",
            " 2   Modelo                27121 non-null  int64  \n",
            " 3   Monto del siniestro   27121 non-null  int64  \n",
            " 4   Aplica cobertura      27121 non-null  object \n",
            " 5   Deducible             27082 non-null  float64\n",
            " 6   Reclamo de Cobertura  27121 non-null  object \n",
            " 7   Pérdida total         27121 non-null  object \n",
            "dtypes: float64(1), int64(2), object(5)\n",
            "memory usage: 1.7+ MB\n"
          ]
        }
      ]
    },
    {
      "cell_type": "code",
      "metadata": {
        "id": "Ixi-XH4yPQGg",
        "colab": {
          "base_uri": "https://localhost:8080/"
        },
        "outputId": "7afecb18-cbcc-4111-9cda-cef947cd24cd"
      },
      "source": [
        "## Datos nulos\n",
        "df.isnull().sum()"
      ],
      "execution_count": null,
      "outputs": [
        {
          "output_type": "execute_result",
          "data": {
            "text/plain": [
              "Fecha del Siniestro      0\n",
              "Tipo de auto            23\n",
              "Modelo                   0\n",
              "Monto del siniestro      0\n",
              "Aplica cobertura         0\n",
              "Deducible               39\n",
              "Reclamo de Cobertura     0\n",
              "Pérdida total            0\n",
              "dtype: int64"
            ]
          },
          "metadata": {},
          "execution_count": 184
        }
      ]
    },
    {
      "cell_type": "code",
      "metadata": {
        "id": "I7PYKse6PP3Y",
        "colab": {
          "base_uri": "https://localhost:8080/"
        },
        "outputId": "c2dcc0c4-b938-4a35-c6ba-cb35e261f7b0"
      },
      "source": [
        "df['Reclamo de Cobertura'].value_counts()"
      ],
      "execution_count": null,
      "outputs": [
        {
          "output_type": "execute_result",
          "data": {
            "text/plain": [
              "No                            25804\n",
              "Si                             1294\n",
              "If[\"\" > 10000, \"Si\", \"No\"]        6\n",
              "If[\"\" > 30000, \"Si\", \"No\"]        5\n",
              "If[\"\" > 20000, \"Si\", \"No\"]        4\n",
              "If[\"\" > 0, \"Si\", \"No\"]            3\n",
              "If[\"\" > 50000, \"Si\", \"No\"]        3\n",
              "If[\"\" > 40000, \"Si\", \"No\"]        2\n",
              "Name: Reclamo de Cobertura, dtype: int64"
            ]
          },
          "metadata": {},
          "execution_count": 185
        }
      ]
    },
    {
      "cell_type": "markdown",
      "metadata": {
        "id": "IpAH-uGzPE--"
      },
      "source": [
        "# Obtención de los parámetros estimados $\\lambda$ y $\\mu$"
      ]
    },
    {
      "cell_type": "markdown",
      "metadata": {
        "id": "cqG4GC5sP8zq"
      },
      "source": [
        "## Base de datos con la que se trabajará"
      ]
    },
    {
      "cell_type": "code",
      "metadata": {
        "id": "Uj_-04tqP4fJ",
        "colab": {
          "base_uri": "https://localhost:8080/"
        },
        "outputId": "395cf995-f057-44b2-f93c-9e8e61356e9c"
      },
      "source": [
        "import copy\n",
        "df_reclamos = df.copy()\n",
        "df_reclamos"
      ],
      "execution_count": null,
      "outputs": [
        {
          "output_type": "execute_result",
          "data": {
            "text/html": [
              "<div>\n",
              "<style scoped>\n",
              "    .dataframe tbody tr th:only-of-type {\n",
              "        vertical-align: middle;\n",
              "    }\n",
              "\n",
              "    .dataframe tbody tr th {\n",
              "        vertical-align: top;\n",
              "    }\n",
              "\n",
              "    .dataframe thead th {\n",
              "        text-align: right;\n",
              "    }\n",
              "</style>\n",
              "<table border=\"1\" class=\"dataframe\">\n",
              "  <thead>\n",
              "    <tr style=\"text-align: right;\">\n",
              "      <th></th>\n",
              "      <th>Fecha del Siniestro</th>\n",
              "      <th>Tipo de auto</th>\n",
              "      <th>Modelo</th>\n",
              "      <th>Monto del siniestro</th>\n",
              "      <th>Aplica cobertura</th>\n",
              "      <th>Deducible</th>\n",
              "      <th>Reclamo de Cobertura</th>\n",
              "      <th>Pérdida total</th>\n",
              "    </tr>\n",
              "  </thead>\n",
              "  <tbody>\n",
              "    <tr>\n",
              "      <th>0</th>\n",
              "      <td>01/01/20</td>\n",
              "      <td>Camioneta</td>\n",
              "      <td>2018</td>\n",
              "      <td>93750</td>\n",
              "      <td>Si</td>\n",
              "      <td>7500.0</td>\n",
              "      <td>No</td>\n",
              "      <td>No</td>\n",
              "    </tr>\n",
              "    <tr>\n",
              "      <th>1</th>\n",
              "      <td>01/01/20</td>\n",
              "      <td>Austero</td>\n",
              "      <td>2016</td>\n",
              "      <td>2580</td>\n",
              "      <td>Si</td>\n",
              "      <td>1000.0</td>\n",
              "      <td>No</td>\n",
              "      <td>No</td>\n",
              "    </tr>\n",
              "    <tr>\n",
              "      <th>2</th>\n",
              "      <td>01/01/20</td>\n",
              "      <td>Subcompacto</td>\n",
              "      <td>2017</td>\n",
              "      <td>18040</td>\n",
              "      <td>Si</td>\n",
              "      <td>2600.0</td>\n",
              "      <td>No</td>\n",
              "      <td>No</td>\n",
              "    </tr>\n",
              "    <tr>\n",
              "      <th>3</th>\n",
              "      <td>01/01/20</td>\n",
              "      <td>Subcompacto</td>\n",
              "      <td>2017</td>\n",
              "      <td>18760</td>\n",
              "      <td>Si</td>\n",
              "      <td>2000.0</td>\n",
              "      <td>No</td>\n",
              "      <td>No</td>\n",
              "    </tr>\n",
              "    <tr>\n",
              "      <th>4</th>\n",
              "      <td>01/01/20</td>\n",
              "      <td>Austero</td>\n",
              "      <td>2017</td>\n",
              "      <td>2640</td>\n",
              "      <td>Si</td>\n",
              "      <td>1600.0</td>\n",
              "      <td>No</td>\n",
              "      <td>No</td>\n",
              "    </tr>\n",
              "    <tr>\n",
              "      <th>...</th>\n",
              "      <td>...</td>\n",
              "      <td>...</td>\n",
              "      <td>...</td>\n",
              "      <td>...</td>\n",
              "      <td>...</td>\n",
              "      <td>...</td>\n",
              "      <td>...</td>\n",
              "      <td>...</td>\n",
              "    </tr>\n",
              "    <tr>\n",
              "      <th>27116</th>\n",
              "      <td>30/12/20</td>\n",
              "      <td>Camioneta</td>\n",
              "      <td>2017</td>\n",
              "      <td>50380</td>\n",
              "      <td>Si</td>\n",
              "      <td>8800.0</td>\n",
              "      <td>No</td>\n",
              "      <td>No</td>\n",
              "    </tr>\n",
              "    <tr>\n",
              "      <th>27117</th>\n",
              "      <td>30/12/20</td>\n",
              "      <td>Austero</td>\n",
              "      <td>2016</td>\n",
              "      <td>5170</td>\n",
              "      <td>Si</td>\n",
              "      <td>1400.0</td>\n",
              "      <td>No</td>\n",
              "      <td>No</td>\n",
              "    </tr>\n",
              "    <tr>\n",
              "      <th>27118</th>\n",
              "      <td>30/12/20</td>\n",
              "      <td>Subcompacto</td>\n",
              "      <td>2017</td>\n",
              "      <td>14640</td>\n",
              "      <td>Si</td>\n",
              "      <td>2600.0</td>\n",
              "      <td>No</td>\n",
              "      <td>No</td>\n",
              "    </tr>\n",
              "    <tr>\n",
              "      <th>27119</th>\n",
              "      <td>30/12/20</td>\n",
              "      <td>Austero</td>\n",
              "      <td>2018</td>\n",
              "      <td>2980</td>\n",
              "      <td>Si</td>\n",
              "      <td>1000.0</td>\n",
              "      <td>No</td>\n",
              "      <td>No</td>\n",
              "    </tr>\n",
              "    <tr>\n",
              "      <th>27120</th>\n",
              "      <td>30/12/20</td>\n",
              "      <td>compacto</td>\n",
              "      <td>2018</td>\n",
              "      <td>21580</td>\n",
              "      <td>Si</td>\n",
              "      <td>3500.0</td>\n",
              "      <td>No</td>\n",
              "      <td>No</td>\n",
              "    </tr>\n",
              "  </tbody>\n",
              "</table>\n",
              "<p>27121 rows × 8 columns</p>\n",
              "</div>"
            ],
            "text/plain": [
              "      Fecha del Siniestro Tipo de auto  ...  Reclamo de Cobertura  Pérdida total\n",
              "0                01/01/20    Camioneta  ...                    No             No\n",
              "1                01/01/20      Austero  ...                    No             No\n",
              "2                01/01/20  Subcompacto  ...                    No             No\n",
              "3                01/01/20  Subcompacto  ...                    No             No\n",
              "4                01/01/20      Austero  ...                    No             No\n",
              "...                   ...          ...  ...                   ...            ...\n",
              "27116            30/12/20    Camioneta  ...                    No             No\n",
              "27117            30/12/20      Austero  ...                    No             No\n",
              "27118            30/12/20  Subcompacto  ...                    No             No\n",
              "27119            30/12/20      Austero  ...                    No             No\n",
              "27120            30/12/20     compacto  ...                    No             No\n",
              "\n",
              "[27121 rows x 8 columns]"
            ]
          },
          "metadata": {},
          "execution_count": 186
        }
      ]
    },
    {
      "cell_type": "markdown",
      "metadata": {
        "id": "ST47dp4cQkdm"
      },
      "source": [
        "## Obtención del valor de $\\lambda$ (promedio de número de siniestros por día N(t))"
      ]
    },
    {
      "cell_type": "code",
      "metadata": {
        "id": "RI6bju_8P4cg",
        "colab": {
          "base_uri": "https://localhost:8080/"
        },
        "outputId": "ea1f6cf1-fd54-4efd-829e-7c9b4948a819"
      },
      "source": [
        "## Número de siniestros por día\n",
        "df_reclamos['Fecha del Siniestro'].value_counts()"
      ],
      "execution_count": null,
      "outputs": [
        {
          "output_type": "execute_result",
          "data": {
            "text/plain": [
              "02/08/20    101\n",
              "28/09/20    100\n",
              "31/05/20     97\n",
              "18/12/20     97\n",
              "05/08/20     96\n",
              "           ... \n",
              "11/10/20     54\n",
              "03/12/20     54\n",
              "02/07/20     53\n",
              "03/08/20     52\n",
              "22/08/20     50\n",
              "Name: Fecha del Siniestro, Length: 365, dtype: int64"
            ]
          },
          "metadata": {},
          "execution_count": 187
        }
      ]
    },
    {
      "cell_type": "code",
      "metadata": {
        "id": "jATMvX6JQuyY",
        "colab": {
          "base_uri": "https://localhost:8080/"
        },
        "outputId": "64cb486f-5fc6-4be6-d3f1-33be45915d90"
      },
      "source": [
        "## Diccionario de fecha - número de sinistros en esa fecha\n",
        "\n",
        "num_siniestros = {}\n",
        "iteracion = 0\n",
        "\n",
        "for i in df_reclamos['Fecha del Siniestro']:\n",
        "    if i not in num_siniestros:\n",
        "        num_siniestros[i] = 1\n",
        "    else:\n",
        "        num_siniestros[i] += 1\n",
        "num_siniestros"
      ],
      "execution_count": null,
      "outputs": [
        {
          "output_type": "execute_result",
          "data": {
            "text/plain": [
              "{'01/01/20': 88,\n",
              " '01/02/20': 76,\n",
              " '01/03/20': 79,\n",
              " '01/04/20': 87,\n",
              " '01/05/20': 84,\n",
              " '01/06/20': 65,\n",
              " '01/07/20': 75,\n",
              " '01/08/20': 70,\n",
              " '01/09/20': 74,\n",
              " '01/10/20': 75,\n",
              " '01/11/20': 87,\n",
              " '01/12/20': 82,\n",
              " '02/01/20': 73,\n",
              " '02/02/20': 69,\n",
              " '02/03/20': 71,\n",
              " '02/04/20': 85,\n",
              " '02/05/20': 75,\n",
              " '02/06/20': 69,\n",
              " '02/07/20': 53,\n",
              " '02/08/20': 101,\n",
              " '02/09/20': 77,\n",
              " '02/10/20': 79,\n",
              " '02/11/20': 81,\n",
              " '02/12/20': 83,\n",
              " '03/01/20': 68,\n",
              " '03/02/20': 74,\n",
              " '03/03/20': 69,\n",
              " '03/04/20': 71,\n",
              " '03/05/20': 79,\n",
              " '03/06/20': 73,\n",
              " '03/07/20': 73,\n",
              " '03/08/20': 52,\n",
              " '03/09/20': 73,\n",
              " '03/10/20': 68,\n",
              " '03/11/20': 66,\n",
              " '03/12/20': 54,\n",
              " '04/01/20': 79,\n",
              " '04/02/20': 78,\n",
              " '04/03/20': 92,\n",
              " '04/04/20': 84,\n",
              " '04/05/20': 94,\n",
              " '04/06/20': 62,\n",
              " '04/07/20': 85,\n",
              " '04/08/20': 74,\n",
              " '04/09/20': 70,\n",
              " '04/10/20': 62,\n",
              " '04/11/20': 66,\n",
              " '04/12/20': 70,\n",
              " '05/01/20': 82,\n",
              " '05/02/20': 79,\n",
              " '05/03/20': 79,\n",
              " '05/04/20': 79,\n",
              " '05/05/20': 72,\n",
              " '05/06/20': 85,\n",
              " '05/07/20': 73,\n",
              " '05/08/20': 96,\n",
              " '05/09/20': 74,\n",
              " '05/10/20': 63,\n",
              " '05/11/20': 65,\n",
              " '05/12/20': 76,\n",
              " '06/01/20': 69,\n",
              " '06/02/20': 72,\n",
              " '06/03/20': 73,\n",
              " '06/04/20': 70,\n",
              " '06/05/20': 81,\n",
              " '06/06/20': 62,\n",
              " '06/07/20': 76,\n",
              " '06/08/20': 72,\n",
              " '06/09/20': 81,\n",
              " '06/10/20': 74,\n",
              " '06/11/20': 86,\n",
              " '06/12/20': 73,\n",
              " '07/01/20': 69,\n",
              " '07/02/20': 77,\n",
              " '07/03/20': 66,\n",
              " '07/04/20': 67,\n",
              " '07/05/20': 68,\n",
              " '07/06/20': 66,\n",
              " '07/07/20': 66,\n",
              " '07/08/20': 73,\n",
              " '07/09/20': 77,\n",
              " '07/10/20': 69,\n",
              " '07/11/20': 72,\n",
              " '07/12/20': 71,\n",
              " '08/01/20': 70,\n",
              " '08/02/20': 63,\n",
              " '08/03/20': 88,\n",
              " '08/04/20': 78,\n",
              " '08/05/20': 64,\n",
              " '08/06/20': 68,\n",
              " '08/07/20': 72,\n",
              " '08/08/20': 72,\n",
              " '08/09/20': 74,\n",
              " '08/10/20': 85,\n",
              " '08/11/20': 78,\n",
              " '08/12/20': 78,\n",
              " '09/01/20': 65,\n",
              " '09/02/20': 73,\n",
              " '09/03/20': 78,\n",
              " '09/04/20': 75,\n",
              " '09/05/20': 89,\n",
              " '09/06/20': 70,\n",
              " '09/07/20': 84,\n",
              " '09/08/20': 73,\n",
              " '09/09/20': 72,\n",
              " '09/10/20': 78,\n",
              " '09/11/20': 93,\n",
              " '09/12/20': 79,\n",
              " '10/01/20': 70,\n",
              " '10/02/20': 70,\n",
              " '10/03/20': 80,\n",
              " '10/04/20': 58,\n",
              " '10/05/20': 68,\n",
              " '10/06/20': 84,\n",
              " '10/07/20': 79,\n",
              " '10/08/20': 77,\n",
              " '10/09/20': 80,\n",
              " '10/10/20': 68,\n",
              " '10/11/20': 69,\n",
              " '10/12/20': 63,\n",
              " '11/01/20': 73,\n",
              " '11/02/20': 78,\n",
              " '11/03/20': 79,\n",
              " '11/04/20': 88,\n",
              " '11/05/20': 64,\n",
              " '11/06/20': 87,\n",
              " '11/07/20': 73,\n",
              " '11/08/20': 92,\n",
              " '11/09/20': 68,\n",
              " '11/10/20': 54,\n",
              " '11/11/20': 67,\n",
              " '11/12/20': 63,\n",
              " '12/01/20': 77,\n",
              " '12/02/20': 90,\n",
              " '12/03/20': 72,\n",
              " '12/04/20': 65,\n",
              " '12/05/20': 77,\n",
              " '12/06/20': 73,\n",
              " '12/07/20': 60,\n",
              " '12/08/20': 67,\n",
              " '12/09/20': 69,\n",
              " '12/10/20': 66,\n",
              " '12/11/20': 76,\n",
              " '12/12/20': 78,\n",
              " '13/01/20': 78,\n",
              " '13/02/20': 69,\n",
              " '13/03/20': 70,\n",
              " '13/04/20': 78,\n",
              " '13/05/20': 67,\n",
              " '13/06/20': 72,\n",
              " '13/07/20': 72,\n",
              " '13/08/20': 73,\n",
              " '13/09/20': 89,\n",
              " '13/10/20': 72,\n",
              " '13/11/20': 82,\n",
              " '13/12/20': 81,\n",
              " '14/01/20': 70,\n",
              " '14/02/20': 79,\n",
              " '14/03/20': 72,\n",
              " '14/04/20': 84,\n",
              " '14/05/20': 79,\n",
              " '14/06/20': 95,\n",
              " '14/07/20': 71,\n",
              " '14/08/20': 73,\n",
              " '14/09/20': 77,\n",
              " '14/10/20': 74,\n",
              " '14/11/20': 67,\n",
              " '14/12/20': 76,\n",
              " '15/01/20': 78,\n",
              " '15/02/20': 78,\n",
              " '15/03/20': 63,\n",
              " '15/04/20': 71,\n",
              " '15/05/20': 68,\n",
              " '15/06/20': 60,\n",
              " '15/07/20': 75,\n",
              " '15/08/20': 79,\n",
              " '15/09/20': 72,\n",
              " '15/10/20': 67,\n",
              " '15/11/20': 92,\n",
              " '15/12/20': 65,\n",
              " '16/01/20': 65,\n",
              " '16/02/20': 80,\n",
              " '16/03/20': 63,\n",
              " '16/04/20': 74,\n",
              " '16/05/20': 69,\n",
              " '16/06/20': 66,\n",
              " '16/07/20': 69,\n",
              " '16/08/20': 83,\n",
              " '16/09/20': 75,\n",
              " '16/10/20': 79,\n",
              " '16/11/20': 84,\n",
              " '16/12/20': 74,\n",
              " '17/01/20': 68,\n",
              " '17/02/20': 73,\n",
              " '17/03/20': 85,\n",
              " '17/04/20': 75,\n",
              " '17/05/20': 60,\n",
              " '17/06/20': 79,\n",
              " '17/07/20': 67,\n",
              " '17/08/20': 72,\n",
              " '17/09/20': 70,\n",
              " '17/10/20': 76,\n",
              " '17/11/20': 67,\n",
              " '17/12/20': 87,\n",
              " '18/01/20': 64,\n",
              " '18/02/20': 80,\n",
              " '18/03/20': 82,\n",
              " '18/04/20': 78,\n",
              " '18/05/20': 64,\n",
              " '18/06/20': 66,\n",
              " '18/07/20': 69,\n",
              " '18/08/20': 72,\n",
              " '18/09/20': 79,\n",
              " '18/10/20': 65,\n",
              " '18/11/20': 79,\n",
              " '18/12/20': 97,\n",
              " '19/01/20': 77,\n",
              " '19/02/20': 76,\n",
              " '19/03/20': 72,\n",
              " '19/04/20': 61,\n",
              " '19/05/20': 77,\n",
              " '19/06/20': 75,\n",
              " '19/07/20': 69,\n",
              " '19/08/20': 66,\n",
              " '19/09/20': 69,\n",
              " '19/10/20': 68,\n",
              " '19/11/20': 71,\n",
              " '19/12/20': 80,\n",
              " '20/01/20': 64,\n",
              " '20/02/20': 86,\n",
              " '20/03/20': 70,\n",
              " '20/04/20': 76,\n",
              " '20/05/20': 77,\n",
              " '20/06/20': 75,\n",
              " '20/07/20': 86,\n",
              " '20/08/20': 82,\n",
              " '20/09/20': 79,\n",
              " '20/10/20': 72,\n",
              " '20/11/20': 74,\n",
              " '20/12/20': 91,\n",
              " '21/01/20': 85,\n",
              " '21/02/20': 84,\n",
              " '21/03/20': 72,\n",
              " '21/04/20': 68,\n",
              " '21/05/20': 62,\n",
              " '21/06/20': 69,\n",
              " '21/07/20': 91,\n",
              " '21/08/20': 91,\n",
              " '21/09/20': 62,\n",
              " '21/10/20': 60,\n",
              " '21/11/20': 71,\n",
              " '21/12/20': 80,\n",
              " '22/01/20': 69,\n",
              " '22/02/20': 67,\n",
              " '22/03/20': 89,\n",
              " '22/04/20': 69,\n",
              " '22/05/20': 66,\n",
              " '22/06/20': 69,\n",
              " '22/07/20': 83,\n",
              " '22/08/20': 50,\n",
              " '22/09/20': 80,\n",
              " '22/10/20': 76,\n",
              " '22/11/20': 82,\n",
              " '22/12/20': 74,\n",
              " '23/01/20': 72,\n",
              " '23/02/20': 83,\n",
              " '23/03/20': 72,\n",
              " '23/04/20': 60,\n",
              " '23/05/20': 62,\n",
              " '23/06/20': 71,\n",
              " '23/07/20': 86,\n",
              " '23/08/20': 83,\n",
              " '23/09/20': 67,\n",
              " '23/10/20': 68,\n",
              " '23/11/20': 71,\n",
              " '23/12/20': 70,\n",
              " '24/01/20': 78,\n",
              " '24/02/20': 77,\n",
              " '24/03/20': 58,\n",
              " '24/04/20': 71,\n",
              " '24/05/20': 66,\n",
              " '24/06/20': 67,\n",
              " '24/07/20': 79,\n",
              " '24/08/20': 66,\n",
              " '24/09/20': 65,\n",
              " '24/10/20': 71,\n",
              " '24/11/20': 77,\n",
              " '24/12/20': 72,\n",
              " '25/01/20': 60,\n",
              " '25/02/20': 76,\n",
              " '25/03/20': 76,\n",
              " '25/04/20': 88,\n",
              " '25/05/20': 71,\n",
              " '25/06/20': 59,\n",
              " '25/07/20': 70,\n",
              " '25/08/20': 82,\n",
              " '25/09/20': 75,\n",
              " '25/10/20': 75,\n",
              " '25/11/20': 79,\n",
              " '25/12/20': 82,\n",
              " '26/01/20': 76,\n",
              " '26/02/20': 75,\n",
              " '26/03/20': 72,\n",
              " '26/04/20': 65,\n",
              " '26/05/20': 73,\n",
              " '26/06/20': 70,\n",
              " '26/07/20': 76,\n",
              " '26/08/20': 91,\n",
              " '26/09/20': 75,\n",
              " '26/10/20': 76,\n",
              " '26/11/20': 66,\n",
              " '26/12/20': 77,\n",
              " '27/01/20': 81,\n",
              " '27/02/20': 68,\n",
              " '27/03/20': 64,\n",
              " '27/04/20': 81,\n",
              " '27/05/20': 69,\n",
              " '27/06/20': 67,\n",
              " '27/07/20': 74,\n",
              " '27/08/20': 86,\n",
              " '27/09/20': 79,\n",
              " '27/10/20': 80,\n",
              " '27/11/20': 83,\n",
              " '27/12/20': 91,\n",
              " '28/01/20': 85,\n",
              " '28/02/20': 79,\n",
              " '28/03/20': 68,\n",
              " '28/04/20': 62,\n",
              " '28/05/20': 73,\n",
              " '28/06/20': 70,\n",
              " '28/07/20': 79,\n",
              " '28/08/20': 74,\n",
              " '28/09/20': 100,\n",
              " '28/10/20': 71,\n",
              " '28/11/20': 70,\n",
              " '28/12/20': 62,\n",
              " '29/01/20': 64,\n",
              " '29/02/20': 77,\n",
              " '29/03/20': 68,\n",
              " '29/04/20': 66,\n",
              " '29/05/20': 65,\n",
              " '29/06/20': 88,\n",
              " '29/07/20': 75,\n",
              " '29/08/20': 81,\n",
              " '29/09/20': 75,\n",
              " '29/10/20': 71,\n",
              " '29/11/20': 77,\n",
              " '29/12/20': 80,\n",
              " '30/01/20': 86,\n",
              " '30/03/20': 81,\n",
              " '30/04/20': 64,\n",
              " '30/05/20': 66,\n",
              " '30/06/20': 87,\n",
              " '30/07/20': 79,\n",
              " '30/08/20': 67,\n",
              " '30/09/20': 74,\n",
              " '30/10/20': 74,\n",
              " '30/11/20': 77,\n",
              " '30/12/20': 81,\n",
              " '31/01/20': 72,\n",
              " '31/03/20': 75,\n",
              " '31/05/20': 97,\n",
              " '31/07/20': 73,\n",
              " '31/08/20': 83,\n",
              " '31/10/20': 92}"
            ]
          },
          "metadata": {},
          "execution_count": 188
        }
      ]
    },
    {
      "cell_type": "code",
      "metadata": {
        "id": "fBhBIZMwQ1Gf",
        "colab": {
          "base_uri": "https://localhost:8080/"
        },
        "outputId": "43ddf35c-9856-46d6-f3ad-655b84aa9b7e"
      },
      "source": [
        "lambdaa = sum(num_siniestros.values())/365\n",
        "lambdaa"
      ],
      "execution_count": null,
      "outputs": [
        {
          "output_type": "execute_result",
          "data": {
            "text/plain": [
              "74.30410958904109"
            ]
          },
          "metadata": {},
          "execution_count": 189
        }
      ]
    },
    {
      "cell_type": "markdown",
      "metadata": {
        "id": "r3wnzQ0P0h4J"
      },
      "source": [
        "## Prueba de bondad de ajuste Poisson"
      ]
    },
    {
      "cell_type": "markdown",
      "metadata": {
        "id": "611mriM-2Prd"
      },
      "source": [
        "H0: Los conteos siguen una distribución de Poisson.\n",
        "\n",
        "H1: Los conteos no siguen una distribución de Poisson.\n",
        "\n",
        "Nivel de Significancia: 0.05"
      ]
    },
    {
      "cell_type": "code",
      "metadata": {
        "id": "dSVJTQY5_JGD"
      },
      "source": [
        "from numpy.random import seed\n",
        "from numpy.random import poisson\n",
        "from numpy.random import exponential\n",
        "from scipy.stats import kstest, ks_2samp"
      ],
      "execution_count": null,
      "outputs": []
    },
    {
      "cell_type": "code",
      "metadata": {
        "id": "Ju79cXT6KJ-n",
        "colab": {
          "base_uri": "https://localhost:8080/"
        },
        "outputId": "ae809450-e43a-4fd7-df98-fa40f6247e61"
      },
      "source": [
        "distribucion_muestra_1 = np.asarray(df_reclamos['Fecha del Siniestro'].value_counts())\n",
        "estadistico, valor_p = ks_2samp(distribucion_muestra_1, poisson(lambdaa, len(num_siniestros)))\n",
        "\n",
        "if valor_p > 0.05:\n",
        "  print(\"La distribución de los conteos SÍ se ajusta a Poissson, pues se obtuvo un p-value de:\", valor_p)\n",
        "else:\n",
        "  print(\"La distribución de los conteos NO se ajusta a Poissson, pues se obtuvo un p-value de:\", valor_p)"
      ],
      "execution_count": null,
      "outputs": [
        {
          "output_type": "stream",
          "name": "stdout",
          "text": [
            "La distribución de los conteos SÍ se ajusta a Poissson, pues se obtuvo un p-value de: 0.8751229287319374\n"
          ]
        }
      ]
    },
    {
      "cell_type": "markdown",
      "metadata": {
        "id": "hIbRq3MtRDCh"
      },
      "source": [
        "## Cálculo de $\\mu$ (promedio del tamaño de los siniestros)"
      ]
    },
    {
      "cell_type": "code",
      "metadata": {
        "id": "7x90h_yzRIS2",
        "colab": {
          "base_uri": "https://localhost:8080/"
        },
        "outputId": "aa600298-5bbd-48b7-f264-e12edd7acea4"
      },
      "source": [
        "mu = df_reclamos['Monto del siniestro'].mean()\n",
        "mu"
      ],
      "execution_count": null,
      "outputs": [
        {
          "output_type": "execute_result",
          "data": {
            "text/plain": [
              "30771.375686737214"
            ]
          },
          "metadata": {},
          "execution_count": 192
        }
      ]
    },
    {
      "cell_type": "markdown",
      "metadata": {
        "id": "W0gbBrEK1hik"
      },
      "source": [
        "## Prueba de bondad de ajuste Exponencial"
      ]
    },
    {
      "cell_type": "markdown",
      "metadata": {
        "id": "qMWA6eA-2hfD"
      },
      "source": [
        "H0: Los reclamos siguen una distribución de Exponencial.\n",
        "\n",
        "H1: Los reclamos no siguen una distribución de Exponencial.\n",
        "\n",
        "Nivel de Significancia: 0.05"
      ]
    },
    {
      "cell_type": "code",
      "metadata": {
        "id": "pE1pKdt1JzkP",
        "colab": {
          "base_uri": "https://localhost:8080/"
        },
        "outputId": "ff6c4308-a06e-47b3-87a8-3c40053eba39"
      },
      "source": [
        "seed(1)\n",
        "distribucion_exponencial = exponential(mu, df_reclamos['Monto del siniestro'].size)\n",
        "distribucion_muestra_2 = np.asarray(df_reclamos['Monto del siniestro'])\n",
        "estdistico, valor_p = ks_2samp( distribucion_muestra_2, distribucion_exponencial)\n",
        "\n",
        "if valor_p > 0.05:\n",
        "  print(\"La distribución del monto de los reclamos SÍ se ajusta a la exponencial, pues se obtuvo un p-value de:\", valor_p)\n",
        "else:\n",
        "  print(\"La distribución del monto de los reclamos NO se ajusta a la exponencial, pues se obtuvo un p-value de:\", valor_p)"
      ],
      "execution_count": null,
      "outputs": [
        {
          "output_type": "stream",
          "name": "stdout",
          "text": [
            "La distribución del monto de los reclamos SÍ se ajusta a la exponencial, pues se obtuvo un p-value de: 0.5888491556547271\n"
          ]
        }
      ]
    },
    {
      "cell_type": "markdown",
      "metadata": {
        "id": "kjiI9oQw_Uwt"
      },
      "source": [
        "# Intervalos de confianza para los parámetros $\\lambda$ y $\\mu$"
      ]
    },
    {
      "cell_type": "markdown",
      "metadata": {
        "id": "JI7mDZIP_gP8"
      },
      "source": [
        "## Intervalo de confianza para $\\lambda$\n",
        "\n",
        "$$\n",
        "\\hat{\\lambda}-z_{\\alpha/2}\\sqrt{\\frac{\\hat{\\lambda}}{n}} \\leq \\lambda \\leq \\hat{\\lambda}+z_{\\alpha/2}\\sqrt{\\frac{\\hat{\\lambda}}{n}}\n",
        "$$\n"
      ]
    },
    {
      "cell_type": "code",
      "metadata": {
        "id": "vU-zRR0W_ajS",
        "colab": {
          "base_uri": "https://localhost:8080/"
        },
        "outputId": "fb24ff66-0e67-495d-85a9-1339721ef579"
      },
      "source": [
        "import math\n",
        "## Intervalo de confianza del 95%\n",
        "## alpha = 0.05\n",
        "\n",
        "n = 365\n",
        "lam_gorro = lambdaa\n",
        "z = 1.96 ## Valor obtenido de la tabla de distribución Z\n",
        "\n",
        "limite_inferior = lam_gorro - z*math.sqrt(lam_gorro/n)\n",
        "limite_superior = lam_gorro + z*math.sqrt(lam_gorro/n)\n",
        "\n",
        "texto = \"El intervalo de confianza para el parámetro lambda es de: \"\\\n",
        "        + str(limite_inferior) + ' <= lambda <= ' + str(limite_superior)\n",
        "\n",
        "print(texto)"
      ],
      "execution_count": null,
      "outputs": [
        {
          "output_type": "stream",
          "name": "stdout",
          "text": [
            "El intervalo de confianza para el parámetro lambda es de: 73.41977613151386 <= lambda <= 75.18844304656832\n"
          ]
        }
      ]
    },
    {
      "cell_type": "markdown",
      "metadata": {
        "id": "u20l-7XA_osc"
      },
      "source": [
        "## Intervalo de confianza para $\\mu$\n",
        "\n",
        "$$\n",
        "\\frac{2n}{\\hat{\\lambda}\\chi_{1-\\frac{\\alpha}{2}, 2n}^{2}} < \\frac{1}{\\lambda} < \\frac{2n}{\\hat{\\lambda}\\chi_{\\frac{\\alpha}{2}, 2n}^{2}}\n",
        "$$"
      ]
    },
    {
      "cell_type": "code",
      "metadata": {
        "id": "AmOqU24r_pxM",
        "colab": {
          "base_uri": "https://localhost:8080/"
        },
        "outputId": "b84c4fea-241e-4583-ce0b-8fafdce47879"
      },
      "source": [
        "## Intervalo de confianza del 95%\n",
        "## alpha = 1- 0.95 = 0.05\n",
        "\n",
        "n = len(df_reclamos)\n",
        "lam_gorro = mu\n",
        "#chi_inferior = \n",
        "#chi_superior = \n",
        "\n",
        "#limite_inferior = (2*n)/(lam_gorro * chi_inferior)\n",
        "#limite_superior = (2*n)/(lam_gorro * chi_superior)\n",
        "\n",
        "limite_inferior = lam_gorro * (1- 1.96/math.sqrt(n))\n",
        "limite_superior = lam_gorro * (1+ 1.96/math.sqrt(n))\n",
        "\n",
        "texto = \"El intervalo de confianza para el parámetro lambda es de: \"\\\n",
        "        + str(limite_inferior) + ' <= 1/lambda <= ' + str(limite_superior)\n",
        "\n",
        "print(texto)\n",
        "print(n)"
      ],
      "execution_count": null,
      "outputs": [
        {
          "output_type": "stream",
          "name": "stdout",
          "text": [
            "El intervalo de confianza para el parámetro lambda es de: 30405.148876343737 <= 1/lambda <= 31137.602497130694\n",
            "27121\n"
          ]
        }
      ]
    },
    {
      "cell_type": "markdown",
      "metadata": {
        "id": "0VERkkDORK16"
      },
      "source": [
        "# Monte Carlo frecuentista"
      ]
    },
    {
      "cell_type": "code",
      "metadata": {
        "id": "jFwdOQhhfV76",
        "colab": {
          "base_uri": "https://localhost:8080/"
        },
        "outputId": "b8a34d10-1930-484b-a789-51d47a9f6d38"
      },
      "source": [
        "mu*lambdaa*1.1"
      ],
      "execution_count": null,
      "outputs": [
        {
          "output_type": "execute_result",
          "data": {
            "text/plain": [
              "2515083.638356164"
            ]
          },
          "metadata": {},
          "execution_count": 196
        }
      ]
    },
    {
      "cell_type": "code",
      "metadata": {
        "id": "ltBQiX4Ke7zZ",
        "colab": {
          "base_uri": "https://localhost:8080/"
        },
        "outputId": "aac98a96-0d72-4de6-ee87-c1378546799d"
      },
      "source": [
        "u = float(input('Capital inicial de la aseguradora: ')) \n",
        "c = float(input('Primas por unidad de tiempo: '))        \n",
        "t = np.arange(365) \n",
        "lamb = lambdaa\n",
        "miu = mu "
      ],
      "execution_count": null,
      "outputs": [
        {
          "name": "stdout",
          "output_type": "stream",
          "text": [
            "Capital inicial de la aseguradora: 0\n",
            "Primas por unidad de tiempo: 2515083.638356164\n"
          ]
        }
      ]
    },
    {
      "cell_type": "code",
      "metadata": {
        "id": "YNgnp8OxJXcs"
      },
      "source": [
        "def obtener_reclamos():\n",
        "  n_siniestros_dia = poisson(lamb, 365) \n",
        "  reclamos_dia = [sum(exponential(miu, x)) for x in n_siniestros_dia]\n",
        "  return reclamos_dia\n",
        "\n",
        "\n",
        "def calculo_xt():\n",
        "  reclamos_dia = obtener_reclamos()\n",
        "  trayectoria = []\n",
        "  reclamo_acumulado = 0\n",
        "\n",
        "  for t in range(1, 366):\n",
        "    reclamo_acumulado += reclamos_dia[t-1]\n",
        "\n",
        "    x_i = u + c * t - reclamo_acumulado\n",
        "    trayectoria.append(x_i)\n",
        "\n",
        "    if x_i <= 0:\n",
        "\n",
        "      return trayectoria, t\n",
        "\n",
        "  return trayectoria, -1"
      ],
      "execution_count": null,
      "outputs": []
    },
    {
      "cell_type": "code",
      "metadata": {
        "id": "0_M-ImwIaBWW"
      },
      "source": [
        "def realizar_simulaciones():\n",
        "\n",
        "  trayectorias_totales = []\n",
        "  quiebra = 0\n",
        "  probabilidad = 0 \n",
        "  probabilidades = [] \n",
        "\n",
        "  for simulaciones in range(1,10001):\n",
        "    trayectoria, resultado = calculo_xt()\n",
        "    trayectorias_totales.append(trayectoria)\n",
        "\n",
        "    if resultado != -1:\n",
        "      quiebra += 1\n",
        "      probabilidad = quiebra / simulaciones\n",
        "      probabilidades.append(probabilidad)\n",
        "    \n",
        "    else:\n",
        "      probabilidad = quiebra / simulaciones\n",
        "      probabilidades.append(probabilidad)\n",
        "\n",
        "\n",
        "  return probabilidades, quiebra\n"
      ],
      "execution_count": null,
      "outputs": []
    },
    {
      "cell_type": "code",
      "metadata": {
        "id": "QhT512s-c9yf",
        "colab": {
          "base_uri": "https://localhost:8080/"
        },
        "outputId": "7e3e1885-a2c5-40fb-de51-c38cbd86badf"
      },
      "source": [
        "probabilidades_frecuentistas, quiebra = realizar_simulaciones()\n",
        "print('El valor de la probabilidad con un capital inicial ' + str(u) + ' es de:', probabilidades_frecuentistas[-1])"
      ],
      "execution_count": null,
      "outputs": [
        {
          "output_type": "stream",
          "name": "stdout",
          "text": [
            "El valor de la probabilidad con un capital inicial 0.0 es de: 0.3893\n"
          ]
        }
      ]
    },
    {
      "cell_type": "code",
      "metadata": {
        "id": "t9qVEEJVmP7C",
        "colab": {
          "base_uri": "https://localhost:8080/",
          "height": 310
        },
        "outputId": "312fc1a6-0284-4667-e553-76ad33f3889a"
      },
      "source": [
        "import matplotlib.pyplot as plt\n",
        "\n",
        "plt.plot(probabilidades_frecuentistas)\n",
        "plt.title('Monte Carlo Frecuentista\\nProbabilidad de ruina con u = 0; c = 2515083.63')\n",
        "plt.xlabel('Simulación')\n",
        "plt.ylabel('Probabilidad de ruina')\n",
        "plt.show()"
      ],
      "execution_count": null,
      "outputs": [
        {
          "output_type": "display_data",
          "data": {
            "image/png": "[encoded data removed]",
            "text/plain": [
              "<Figure size 432x288 with 1 Axes>"
            ]
          },
          "metadata": {
            "needs_background": "light"
          }
        }
      ]
    },
    {
      "cell_type": "code",
      "metadata": {
        "colab": {
          "base_uri": "https://localhost:8080/"
        },
        "id": "16LfUY_1mdVb",
        "outputId": "f364d3bb-e115-41a6-ecca-0c2d09c9e01c"
      },
      "source": [
        "# capital inicial de 30,000\n",
        "u = float(input('Capital inicial de la aseguradora: ')) \n",
        "c = float(input('Primas por unidad de tiempo: '))     \n",
        "probabilidades_frecuentistas2, quiebra2 = realizar_simulaciones()\n",
        "print('El valor de la probabilidad con un capital inicial ' + str(u) + ' es de:', probabilidades_frecuentistas2[-1])"
      ],
      "execution_count": null,
      "outputs": [
        {
          "output_type": "stream",
          "name": "stdout",
          "text": [
            "Capital inicial de la aseguradora: 30000\n",
            "Primas por unidad de tiempo: 2515083.638356164\n",
            "El valor de la probabilidad con un capital inicial 30000.0 es de: 0.3625\n"
          ]
        }
      ]
    },
    {
      "cell_type": "code",
      "metadata": {
        "colab": {
          "base_uri": "https://localhost:8080/"
        },
        "id": "6hF__fhEo4KM",
        "outputId": "fef9d76e-e560-4463-90e6-fc2a747ab951"
      },
      "source": [
        "# capital inicial de 300,000\n",
        "u = float(input('Capital inicial de la aseguradora: ')) \n",
        "c = float(input('Primas por unidad de tiempo: '))\n",
        "probabilidades_frecuentistas3, quiebra3 = realizar_simulaciones()\n",
        "print('El valor de la probabilidad con un capital inicial ' + str(u) + ' es de:', probabilidades_frecuentistas2[-1])"
      ],
      "execution_count": null,
      "outputs": [
        {
          "output_type": "stream",
          "name": "stdout",
          "text": [
            "Capital inicial de la aseguradora: 300000\n",
            "Primas por unidad de tiempo: 2515083.638356164\n",
            "El valor de la probabilidad con un capital inicial 300000.0 es de: 0.1829\n"
          ]
        }
      ]
    },
    {
      "cell_type": "code",
      "metadata": {
        "colab": {
          "base_uri": "https://localhost:8080/"
        },
        "id": "p8O8zdY2o8Cw",
        "outputId": "f975a1c0-93e5-4d25-d34b-bef8a4dec574"
      },
      "source": [
        "# capital inicial de 1,000,000\n",
        "u = float(input('Capital inicial de la aseguradora: ')) \n",
        "c = float(input('Primas por unidad de tiempo: '))\n",
        "probabilidades_frecuentistas4, quiebra4 = realizar_simulaciones()\n",
        "print('El valor de la probabilidad con un capital inicial ' + str(u) + ' es de:', probabilidades_frecuentistas2[-1])"
      ],
      "execution_count": null,
      "outputs": [
        {
          "output_type": "stream",
          "name": "stdout",
          "text": [
            "Capital inicial de la aseguradora: 1000000\n",
            "Primas por unidad de tiempo: 2515083.638356164\n",
            "El valor de la probabilidad con un capital inicial 1000000.0 es de: 0.1829\n"
          ]
        }
      ]
    },
    {
      "cell_type": "code",
      "metadata": {
        "colab": {
          "base_uri": "https://localhost:8080/",
          "height": 310
        },
        "id": "bb_WtjMToLoY",
        "outputId": "c6e5fd2d-8cc7-40f2-ad21-53377cb3ede3"
      },
      "source": [
        "plt.plot(probabilidades_frecuentistas, label = 'u = 0')\n",
        "plt.plot(probabilidades_frecuentistas2, label = 'u = 30,000')\n",
        "plt.plot(probabilidades_frecuentistas3, label = 'u = 300,000')\n",
        "plt.plot(probabilidades_frecuentistas4, label = 'u = 1,000,000')\n",
        "\n",
        "plt.title('Monte Carlo Frecuentista\\nProbabilidad de ruina con c = 2515083.63')\n",
        "plt.xlabel('Simulación')\n",
        "plt.ylabel('Probabilidad de ruina')\n",
        "plt.legend(loc=4, prop={'size': 8})\n",
        "plt.show()"
      ],
      "execution_count": null,
      "outputs": [
        {
          "output_type": "display_data",
          "data": {
            "image/png": "[encoded data removed]",
            "text/plain": [
              "<Figure size 432x288 with 1 Axes>"
            ]
          },
          "metadata": {
            "needs_background": "light"
          }
        }
      ]
    },
    {
      "cell_type": "code",
      "metadata": {
        "colab": {
          "base_uri": "https://localhost:8080/",
          "height": 677
        },
        "id": "yOb6kqf3tGdc",
        "outputId": "5ee9dfc5-b821-45e8-9694-af07774f1ac6"
      },
      "source": [
        "plt.figure(figsize=(12,10))\n",
        "\n",
        "plt.subplot(2, 2, 1)\n",
        "plt.plot(probabilidades_frecuentistas, label = 'u = 0')\n",
        "plt.title('Probabilidad de ruina con u = 0')\n",
        "plt.ylabel('Probabilidad de ruina')\n",
        "plt.xlabel('Simulación')\n",
        "\n",
        "plt.subplot(2, 2, 2)\n",
        "plt.plot(probabilidades_frecuentistas2, label = 'u = 30,000')\n",
        "plt.title('Probabilidad de ruina con u = 30,000')\n",
        "plt.ylabel('Probabilidad de ruina')\n",
        "plt.xlabel('Simulación')\n",
        "\n",
        "plt.subplot(2, 2, 3)\n",
        "plt.plot(probabilidades_frecuentistas3, label = 'u = 300,000')\n",
        "plt.title('Probabilidad de ruina con u = 300,000')\n",
        "plt.ylabel('Probabilidad de ruina')\n",
        "plt.xlabel('Simulación')\n",
        "\n",
        "plt.subplot(2, 2, 4)\n",
        "plt.plot(probabilidades_frecuentistas4, label = 'u = 1,000,000')\n",
        "plt.title('Probabilidad de ruina con u = 1,000,000')\n",
        "plt.ylabel('Probabilidad de ruina')\n",
        "plt.xlabel('Simulación')\n",
        "\n",
        "plt.suptitle(\"Monte Carlo Frecuentista\\nProbabilidad de ruina con c = 2515083.63\")\n",
        "plt.show()"
      ],
      "execution_count": null,
      "outputs": [
        {
          "output_type": "display_data",
          "data": {
            "image/png": "[encoded data removed]",
            "text/plain": [
              "<Figure size 864x720 with 4 Axes>"
            ]
          },
          "metadata": {
            "needs_background": "light"
          }
        }
      ]
    },
    {
      "cell_type": "markdown",
      "metadata": {
        "id": "ExTaN_uitG0v"
      },
      "source": [
        "# Monte Carlo *r* simulaciones"
      ]
    },
    {
      "cell_type": "code",
      "metadata": {
        "id": "sSBgIF2Vv3xW",
        "colab": {
          "base_uri": "https://localhost:8080/"
        },
        "outputId": "98a2274d-6374-463c-9dc8-a58a030f16d6"
      },
      "source": [
        "from scipy.stats import norm\n",
        "from scipy import stats\n",
        "\n",
        "z_95 = norm.ppf(.975) #alpha igual a 0.05, alpha/2 = 0.025}\n",
        "e = 0.0001\n",
        "valor_deseado = e / z_95\n",
        "\n",
        "alpha= 0.05  \n",
        "ci = [valor_deseado-valor_deseado*alpha, valor_deseado+valor_deseado*alpha]\n",
        "valor_deseado = round(valor_deseado, 6)\n",
        "valor_deseado\n"
      ],
      "execution_count": null,
      "outputs": [
        {
          "output_type": "execute_result",
          "data": {
            "text/plain": [
              "5.1e-05"
            ]
          },
          "metadata": {},
          "execution_count": 250
        }
      ]
    },
    {
      "cell_type": "code",
      "metadata": {
        "id": "aY0Z-3wXmijR",
        "colab": {
          "base_uri": "https://localhost:8080/"
        },
        "outputId": "7f8cc843-8345-48a6-9207-b70c093efa41"
      },
      "source": [
        "intervalo = [round(valor_deseado-0.01*valor_deseado, 6), round(valor_deseado+0.01*valor_deseado, 6)]\n",
        "intervalo"
      ],
      "execution_count": null,
      "outputs": [
        {
          "output_type": "execute_result",
          "data": {
            "text/plain": [
              "[5e-05, 5.2e-05]"
            ]
          },
          "metadata": {},
          "execution_count": 251
        }
      ]
    },
    {
      "cell_type": "code",
      "metadata": {
        "id": "fFIYv4FBtLYb"
      },
      "source": [
        "def r_simulaciones(intervalo_deseado):\n",
        "\n",
        "  trayectorias_totales = []\n",
        "  quiebra = 0\n",
        "  probabilidad = 0 \n",
        "  probabilidades = [] \n",
        "  simulaciones = 0\n",
        "\n",
        "  while True:\n",
        "\n",
        "    simulaciones += 1\n",
        "\n",
        "    trayectoria, resultado = calculo_xt()\n",
        "    trayectorias_totales.append(trayectoria)\n",
        "\n",
        "    if resultado != -1:\n",
        "\n",
        "      quiebra += 1\n",
        "      probabilidad = quiebra / simulaciones\n",
        "      probabilidades.append(probabilidad)\n",
        "    \n",
        "    else:\n",
        "\n",
        "      probabilidad = quiebra / simulaciones\n",
        "      probabilidades.append(probabilidad)\n",
        "\n",
        "    \n",
        "    a = (probabilidad*(1-probabilidad))/simulaciones\n",
        "    a = round(a, 6)\n",
        "\n",
        "    if intervalo_deseado[0] <= a and a <= intervalo_deseado[1]:\n",
        "      print(\"El número de simulaciones fue de\", simulaciones)\n",
        "      print(\"El valor es\", probabilidad)\n",
        "      break\n",
        "\n",
        "  return probabilidades"
      ],
      "execution_count": null,
      "outputs": []
    },
    {
      "cell_type": "code",
      "metadata": {
        "id": "pPCH8ba0V3LZ",
        "colab": {
          "base_uri": "https://localhost:8080/"
        },
        "outputId": "2280fd70-8657-4df3-9673-28cdcf4f5414"
      },
      "source": [
        "# r simulaciones con u = 0\n",
        "u = float(input('Capital inicial de la aseguradora: ')) \n",
        "c = float(input('Primas por unidad de tiempo: '))   \n",
        "probabilidades_r_simulaciones = r_simulaciones(intervalo)"
      ],
      "execution_count": null,
      "outputs": [
        {
          "output_type": "stream",
          "name": "stdout",
          "text": [
            "Capital inicial de la aseguradora: 0\n",
            "Primas por unidad de tiempo: 2515083.638356164\n",
            "El número de simulaciones fue de 4496\n",
            "El valor es 0.3816725978647687\n"
          ]
        }
      ]
    },
    {
      "cell_type": "code",
      "metadata": {
        "id": "tk_iIaOThiNr",
        "colab": {
          "base_uri": "https://localhost:8080/"
        },
        "outputId": "798a26ac-8ac8-4dbb-a110-518cb546bc13"
      },
      "source": [
        "# r simulaciones con u = 30,000\n",
        "u = float(input('Capital inicial de la aseguradora: ')) \n",
        "c = float(input('Primas por unidad de tiempo: '))  \n",
        "probabilidades_r_simulaciones2 = r_simulaciones(intervalo)"
      ],
      "execution_count": null,
      "outputs": [
        {
          "output_type": "stream",
          "name": "stdout",
          "text": [
            "Capital inicial de la aseguradora: 30000\n",
            "Primas por unidad de tiempo: 2515083.638356164\n",
            "El número de simulaciones fue de 4402\n",
            "El valor es 0.362335302135393\n"
          ]
        }
      ]
    },
    {
      "cell_type": "code",
      "metadata": {
        "colab": {
          "base_uri": "https://localhost:8080/"
        },
        "id": "gx-Tn5J7urJg",
        "outputId": "4dadeaeb-a89e-4414-9cb9-4f23997ef776"
      },
      "source": [
        "# r simulaciones con u = 300,000\n",
        "u = float(input('Capital inicial de la aseguradora: ')) \n",
        "c = float(input('Primas por unidad de tiempo: '))  \n",
        "probabilidades_r_simulaciones3 = r_simulaciones(intervalo)"
      ],
      "execution_count": null,
      "outputs": [
        {
          "output_type": "stream",
          "name": "stdout",
          "text": [
            "Capital inicial de la aseguradora: 300000\n",
            "Primas por unidad de tiempo: 2515083.638356164\n",
            "El número de simulaciones fue de 2822\n",
            "El valor es 0.18072289156626506\n"
          ]
        }
      ]
    },
    {
      "cell_type": "code",
      "metadata": {
        "colab": {
          "base_uri": "https://localhost:8080/"
        },
        "id": "67DveHy1uvoP",
        "outputId": "9aeaef87-96fd-43e7-a278-60c0796d840c"
      },
      "source": [
        "# r simulaciones con u = 1,000,000\n",
        "u = float(input('Capital inicial de la aseguradora: ')) \n",
        "c = float(input('Primas por unidad de tiempo: '))  \n",
        "probabilidades_r_simulaciones4 = r_simulaciones(intervalo)"
      ],
      "execution_count": null,
      "outputs": [
        {
          "output_type": "stream",
          "name": "stdout",
          "text": [
            "Capital inicial de la aseguradora: 1000000\n",
            "Primas por unidad de tiempo: 2515083.638356164\n",
            "El número de simulaciones fue de 410\n",
            "El valor es 0.02195121951219512\n"
          ]
        }
      ]
    },
    {
      "cell_type": "code",
      "metadata": {
        "colab": {
          "base_uri": "https://localhost:8080/",
          "height": 310
        },
        "id": "2Zy8VMwrvOMi",
        "outputId": "c83996a9-5af5-4f16-968f-891cc970380a"
      },
      "source": [
        "plt.plot(probabilidades_r_simulaciones, label = 'u = 0')\n",
        "plt.plot(probabilidades_r_simulaciones2, label = 'u = 30,000')\n",
        "plt.plot(probabilidades_r_simulaciones3, label = 'u = 300,000')\n",
        "plt.plot(probabilidades_r_simulaciones4, label = 'u = 1,000,000')\n",
        "\n",
        "plt.title('Monte Carlo con Varianza Reducida\\nProbabilidad de ruina con c = 2515083.63')\n",
        "plt.xlabel('Simulación')\n",
        "plt.ylabel('Probabilidad de ruina')\n",
        "plt.legend(loc=4, prop={'size': 8})\n",
        "plt.show()"
      ],
      "execution_count": null,
      "outputs": [
        {
          "output_type": "display_data",
          "data": {
            "image/png": "[encoded data removed]",
            "text/plain": [
              "<Figure size 432x288 with 1 Axes>"
            ]
          },
          "metadata": {
            "needs_background": "light"
          }
        }
      ]
    },
    {
      "cell_type": "markdown",
      "metadata": {
        "id": "FfJJG4qNRirG"
      },
      "source": [
        "# Teorema central del límite"
      ]
    },
    {
      "cell_type": "code",
      "metadata": {
        "id": "OjDuiz44Ro2w"
      },
      "source": [
        "from random import choice"
      ],
      "execution_count": null,
      "outputs": []
    },
    {
      "cell_type": "code",
      "metadata": {
        "id": "9SaaLhxsRrS_",
        "colab": {
          "base_uri": "https://localhost:8080/",
          "height": 265
        },
        "outputId": "fc3263cc-a635-4a8d-ce52-0838be6f398c"
      },
      "source": [
        "n = 300\n",
        "r = []\n",
        "mul = sum(probabilidades_frecuentistas) / len(probabilidades_frecuentistas)\n",
        "for i in range(300):\n",
        "    a=[choice(probabilidades_frecuentistas) for x in range(n)]\n",
        "    mean = sum(a) / n\n",
        "    Zn = math.sqrt(n)*((mean - mul)/statistics.stdev(probabilidades_frecuentistas))\n",
        "    r.append(Zn)\n",
        "t = np.arange(300)\n",
        "plt.plot(t, r)\n",
        "plt.show()"
      ],
      "execution_count": null,
      "outputs": [
        {
          "output_type": "display_data",
          "data": {
            "image/png": "[encoded data removed]",
            "text/plain": [
              "<Figure size 432x288 with 1 Axes>"
            ]
          },
          "metadata": {
            "needs_background": "light"
          }
        }
      ]
    },
    {
      "cell_type": "markdown",
      "metadata": {
        "id": "n17VZk1gXipO"
      },
      "source": [
        "# De Vylder"
      ]
    },
    {
      "cell_type": "code",
      "metadata": {
        "id": "KbLMN9BXa6jU",
        "colab": {
          "base_uri": "https://localhost:8080/"
        },
        "outputId": "6eeb15c5-19a9-4220-a125-5326e7ef82c9"
      },
      "source": [
        "u = float(input('Capital inicial de la aseguradora: ')) \n",
        "c = 1.1 * lambdaa * mu       \n",
        "t = np.arange(365) \n",
        "lamb = lambdaa\n",
        "miu = mu "
      ],
      "execution_count": null,
      "outputs": [
        {
          "name": "stdout",
          "output_type": "stream",
          "text": [
            "Capital inicial de la aseguradora: 300000\n"
          ]
        }
      ]
    },
    {
      "cell_type": "code",
      "metadata": {
        "id": "TO0qkoXDZgce"
      },
      "source": [
        "def obtener_reclamos():\n",
        "  n_siniestros_dia = poisson(lamb, 365) \n",
        "  reclamos_dia = [sum(exponential(miu, x)) for x in n_siniestros_dia]\n",
        "  return reclamos_dia, n_siniestros_dia\n",
        "\n",
        "def calculo_xt():\n",
        "  reclamos_dia, n_siniestros_dia = obtener_reclamos()\n",
        "  trayectoria = []\n",
        "  reclamo_acumulado = 0\n",
        "\n",
        "  for t in range(1, 366):\n",
        "    reclamo_acumulado += reclamos_dia[t-1]\n",
        "\n",
        "    x_i = u + c * t - reclamo_acumulado\n",
        "    trayectoria.append(x_i)\n",
        "\n",
        "  return trayectoria, reclamos_dia, n_siniestros_dia"
      ],
      "execution_count": null,
      "outputs": []
    },
    {
      "cell_type": "code",
      "metadata": {
        "id": "HFAIW03rXmMY"
      },
      "source": [
        "def vylder_simulaciones():\n",
        "\n",
        "  trayectorias_totales = []\n",
        "  quiebra = 0\n",
        "  probabilidad = 0 \n",
        "  probabilidades = [] \n",
        "  simulaciones = 0\n",
        "  miu2 = []\n",
        "  miu3 = []\n",
        "\n",
        "  for simulaciones in range(1,1001):                            \n",
        "\n",
        "    simulaciones += 1\n",
        "\n",
        "    trayectoria, reclamos, n_siniestros_dia = calculo_xt()   \n",
        "\n",
        "    media_miu = statistics.mean(reclamos / n_siniestros_dia) \n",
        "    miu2.append(media_miu**2)\n",
        "    miu3.append(media_miu**3)\n",
        "\n",
        "    trayectorias_totales.append(trayectoria)\n",
        "\n",
        "    media_miu2 = statistics.mean(miu2)\n",
        "    media_miu3 = statistics.mean(miu3)\n",
        "\n",
        "    alpha_estimado = 3 * media_miu2 / media_miu3\n",
        "    lambda_estimado = (9/2)*(lamb)*((media_miu2**3)/(media_miu3**2))\n",
        "    c_estimado = c - (lamb*miu) + ((3/2)*(lamb)*((media_miu2**2)/(media_miu3)))\n",
        "    \n",
        "    R = alpha_estimado - (lambda_estimado / c_estimado)\n",
        "\n",
        "    probabilidad = (lamb * (miu))/c * math.exp(-u * R)\n",
        "    probabilidades.append(probabilidad)\n",
        "\n",
        "  return probabilidades"
      ],
      "execution_count": null,
      "outputs": []
    },
    {
      "cell_type": "code",
      "metadata": {
        "id": "eUFFQOdfcLW0"
      },
      "source": [
        "probabilidades_vylder_simulaciones = vylder_simulaciones()"
      ],
      "execution_count": null,
      "outputs": []
    },
    {
      "cell_type": "code",
      "metadata": {
        "id": "39mhRb06amJa",
        "colab": {
          "base_uri": "https://localhost:8080/",
          "height": 310
        },
        "outputId": "91d59f1b-d2c0-4883-ac5b-75e27fc8ce48"
      },
      "source": [
        "plt.plot(probabilidades_vylder_simulaciones)\n",
        "plt.title('Método De Vylden\\nProbabilidad de ruina con u = 3000000; c = 2515083.63')\n",
        "plt.xlabel('Simulación')\n",
        "plt.ylabel('Probabilidad de ruina')\n",
        "plt.show()"
      ],
      "execution_count": null,
      "outputs": [
        {
          "output_type": "display_data",
          "data": {
            "image/png": "[encoded data removed]",
            "text/plain": [
              "<Figure size 432x288 with 1 Axes>"
            ]
          },
          "metadata": {
            "needs_background": "light"
          }
        }
      ]
    },
    {
      "cell_type": "code",
      "metadata": {
        "colab": {
          "base_uri": "https://localhost:8080/"
        },
        "id": "ILtdsLs58lML",
        "outputId": "4f73e9e8-94dc-440d-a771-1bc159e87f3d"
      },
      "source": [
        "probabilidades_vylder_simulaciones[-1]"
      ],
      "execution_count": null,
      "outputs": [
        {
          "output_type": "execute_result",
          "data": {
            "text/plain": [
              "0.14635951416077542"
            ]
          },
          "metadata": {},
          "execution_count": 178
        }
      ]
    },
    {
      "cell_type": "markdown",
      "metadata": {
        "id": "O7iQofOkJR9W"
      },
      "source": [
        "# Pollaczek-Khinchin"
      ]
    },
    {
      "cell_type": "code",
      "metadata": {
        "colab": {
          "base_uri": "https://localhost:8080/"
        },
        "id": "dJFWTzQNezpa",
        "outputId": "2c0cb100-534f-4c56-abf2-acf5b183cb57"
      },
      "source": [
        "u = float(input('Capital inicial de la aseguradora: ')) \n",
        "c = 1.1 * lambdaa * mu       \n",
        "t = np.arange(365) \n",
        "lamb = lambdaa\n",
        "miu = mu "
      ],
      "execution_count": null,
      "outputs": [
        {
          "name": "stdout",
          "output_type": "stream",
          "text": [
            "Capital inicial de la aseguradora: 0\n"
          ]
        }
      ]
    },
    {
      "cell_type": "code",
      "metadata": {
        "id": "Sw5SjV-0JcUO"
      },
      "source": [
        "beta = 1/mu"
      ],
      "execution_count": null,
      "outputs": []
    },
    {
      "cell_type": "code",
      "metadata": {
        "id": "kJFaVVrgJerE",
        "colab": {
          "base_uri": "https://localhost:8080/"
        },
        "outputId": "0b18c717-2fd5-46fa-bfcc-da10781c0591"
      },
      "source": [
        "(lamb/(beta*c))*math.e**(-(beta-(lamb/c))*u)"
      ],
      "execution_count": null,
      "outputs": [
        {
          "output_type": "execute_result",
          "data": {
            "text/plain": [
              "0.909090909090909"
            ]
          },
          "metadata": {},
          "execution_count": 263
        }
      ]
    },
    {
      "cell_type": "code",
      "metadata": {
        "id": "O2GWDcqmGka5"
      },
      "source": [
        "valores_u = np.arange(0,1000000)\n"
      ],
      "execution_count": null,
      "outputs": []
    },
    {
      "cell_type": "code",
      "metadata": {
        "id": "IPPkpA1JPJ9f"
      },
      "source": [
        "def elPollas():\n",
        "  valores_u = np.arange(0,1000000)\n",
        "  probabilidades_polla = []\n",
        "\n",
        "  for u in valores_u:\n",
        "    prob_polla = (lamb/(beta*c))*math.e**(-(beta-(lamb/c))*u)\n",
        "    probabilidades_polla.append(prob_polla)\n",
        "\n",
        "  return probabilidades_polla    \n"
      ],
      "execution_count": null,
      "outputs": []
    },
    {
      "cell_type": "code",
      "metadata": {
        "id": "l6vw7iKCP0Ww"
      },
      "source": [
        "aproximaciones_pollaczek = elPollas()"
      ],
      "execution_count": null,
      "outputs": []
    },
    {
      "cell_type": "code",
      "metadata": {
        "colab": {
          "base_uri": "https://localhost:8080/",
          "height": 310
        },
        "id": "2bAgWbxOP9rx",
        "outputId": "830750a5-3172-40ee-9ecd-d6a4e34ead4a"
      },
      "source": [
        "plt.plot(aproximaciones_pollaczek, linewidth = 2.5, color = 'red')\n",
        "plt.xlabel('Capital inicial (u)')\n",
        "plt.ylabel('Probabilidad de ruina')\n",
        "plt.title('Fórmula de Pollaczek\\nProbabilidad de ruina vs capital inicial')\n",
        "plt.show()"
      ],
      "execution_count": null,
      "outputs": [
        {
          "output_type": "display_data",
          "data": {
            "image/png": "[encoded data removed]",
            "text/plain": [
              "<Figure size 432x288 with 1 Axes>"
            ]
          },
          "metadata": {
            "needs_background": "light"
          }
        }
      ]
    }
  ]
}